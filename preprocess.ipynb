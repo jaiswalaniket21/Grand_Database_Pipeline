{
 "cells": [
  {
   "cell_type": "markdown",
   "metadata": {},
   "source": [
    "# Start with the merged File to preprocess it"
   ]
  },
  {
   "cell_type": "code",
   "execution_count": 1,
   "metadata": {},
   "outputs": [],
   "source": [
    "import pandas as pd\n",
    "import numpy as np\n",
    "import ast\n",
    "import re"
   ]
  },
  {
   "cell_type": "code",
   "execution_count": 2,
   "metadata": {},
   "outputs": [],
   "source": [
    "merged_df = pd.read_excel('D:/Only_GDB_Operation/Premanual FIles/merged_IGR_20_21_22.xlsx') # Your merged Premanual file here"
   ]
  },
  {
   "cell_type": "code",
   "execution_count": 3,
   "metadata": {},
   "outputs": [],
   "source": [
    "# Drop the columns which are not necessary\n",
    "merged_df.drop(columns=['Unnamed: 0','village','sro_code','Remaining_Assumed_BUA','builtup_sqmt','saleable_sqmt', 'project_clean'], inplace=True)"
   ]
  },
  {
   "cell_type": "code",
   "execution_count": 4,
   "metadata": {},
   "outputs": [
    {
     "data": {
      "text/plain": [
       "(478421, 18)"
      ]
     },
     "execution_count": 4,
     "metadata": {},
     "output_type": "execute_result"
    }
   ],
   "source": [
    "merged_df.shape"
   ]
  },
  {
   "cell_type": "markdown",
   "metadata": {},
   "source": [
    "# Calculate Rate/Sqft by cleaning columns like Kshetrafal and Mobadla"
   ]
  },
  {
   "cell_type": "code",
   "execution_count": null,
   "metadata": {},
   "outputs": [],
   "source": [
    "merged_df"
   ]
  },
  {
   "cell_type": "code",
   "execution_count": 5,
   "metadata": {},
   "outputs": [],
   "source": [
    "#import static variables from the static file\n",
    "from static import result_dict, word_number_dict"
   ]
  },
  {
   "cell_type": "code",
   "execution_count": 6,
   "metadata": {},
   "outputs": [],
   "source": [
    "from utils import clean_mobadla, calculate_rate_sqft"
   ]
  },
  {
   "cell_type": "code",
   "execution_count": 7,
   "metadata": {},
   "outputs": [],
   "source": [
    "merged_df.rename(columns={'date': 'Transaction Date', 'unit_clean': 'Unit No', 'floor_clean': 'Floor No', \n",
    "                            'mobadla': 'Agreement Price(INR)', 'Kshetrafal': 'Net Carpet Area sqmt (KHESTRAFAL)', 'doc_type': 'Transaction Type', 'bhumapan': 'Bhumapan',\n",
    "                            'Property_Type': 'Property Type','village_Name_Eng': 'IGR Village', 'sro_name': 'SRO Name', 'doc_num': 'Document No', 'bajarbhav': 'Bajarbhav'}, inplace=True)"
   ]
  },
  {
   "cell_type": "code",
   "execution_count": 8,
   "metadata": {},
   "outputs": [],
   "source": [
    "merged_df['Net Carpet Area sqmt (KHESTRAFAL)'] = clean_mobadla(merged_df['Net Carpet Area sqmt (KHESTRAFAL)'])"
   ]
  },
  {
   "cell_type": "code",
   "execution_count": null,
   "metadata": {},
   "outputs": [],
   "source": [
    "merged_df"
   ]
  },
  {
   "cell_type": "code",
   "execution_count": 9,
   "metadata": {},
   "outputs": [],
   "source": [
    "merged_df['Rate/sqft(INR)'] = calculate_rate_sqft(merged_df['Agreement Price(INR)'], merged_df['Net Carpet Area sqmt (KHESTRAFAL)'])"
   ]
  },
  {
   "cell_type": "markdown",
   "metadata": {},
   "source": [
    "# Convert Doc_Type and Floor to English"
   ]
  },
  {
   "cell_type": "code",
   "execution_count": 10,
   "metadata": {},
   "outputs": [],
   "source": [
    "merged_df['Transaction Type'] = merged_df['Transaction Type'].map(result_dict.get)"
   ]
  },
  {
   "cell_type": "code",
   "execution_count": 11,
   "metadata": {},
   "outputs": [],
   "source": [
    "merged_df['Floor No'] = merged_df['Floor No'].map(word_number_dict)"
   ]
  },
  {
   "cell_type": "code",
   "execution_count": 12,
   "metadata": {},
   "outputs": [],
   "source": [
    "# Operation for Unit number column\n",
    "merged_df['Unit No'] = merged_df['Unit No'].str.extract(r'(\\d+)', expand=False).astype(float).astype(pd.Int64Dtype(), errors='ignore')\n",
    "        \n",
    "\n",
    "mask = ~merged_df['Unit No'].isnull() & ~merged_df['Property Type'].isnull()\n",
    "\n",
    "\n",
    "merged_df['Unit No'] = np.where(mask, \n",
    "                                    merged_df['Property Type'].astype(str) + ' no. ' + merged_df['Unit No'].astype(str), \n",
    "                                    np.nan)"
   ]
  },
  {
   "cell_type": "code",
   "execution_count": 13,
   "metadata": {},
   "outputs": [],
   "source": [
    "merged_df.to_excel('Merged_File_Preprocessed_Premanual_for_main_file.xlsx', index=False)\n",
    "#This output file will be the input file for the main.py file"
   ]
  },
  {
   "cell_type": "code",
   "execution_count": null,
   "metadata": {},
   "outputs": [],
   "source": []
  }
 ],
 "metadata": {
  "kernelspec": {
   "display_name": ".venv",
   "language": "python",
   "name": "python3"
  },
  "language_info": {
   "codemirror_mode": {
    "name": "ipython",
    "version": 3
   },
   "file_extension": ".py",
   "mimetype": "text/x-python",
   "name": "python",
   "nbconvert_exporter": "python",
   "pygments_lexer": "ipython3",
   "version": "3.12.0"
  }
 },
 "nbformat": 4,
 "nbformat_minor": 2
}
